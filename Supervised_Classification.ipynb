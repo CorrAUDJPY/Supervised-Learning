{
  "nbformat": 4,
  "nbformat_minor": 0,
  "metadata": {
    "colab": {
      "name": "Supervised Classification.ipynb",
      "provenance": [],
      "collapsed_sections": [],
      "authorship_tag": "ABX9TyMb8xjdVNxtu6w8U1li0G+O",
      "include_colab_link": true
    },
    "kernelspec": {
      "name": "python3",
      "display_name": "Python 3"
    }
  },
  "cells": [
    {
      "cell_type": "markdown",
      "metadata": {
        "id": "view-in-github",
        "colab_type": "text"
      },
      "source": [
        "<a href=\"https://colab.research.google.com/github/CorrAUDJPY/Supervised-Learning/blob/main/Supervised_Classification.ipynb\" target=\"_parent\"><img src=\"https://colab.research.google.com/assets/colab-badge.svg\" alt=\"Open In Colab\"/></a>"
      ]
    },
    {
      "cell_type": "markdown",
      "metadata": {
        "id": "S_WyEAL62Rze"
      },
      "source": [
        "***Supervised Learning***\n",
        "***Project: Finding Donors for CharityML***. \n",
        "\n",
        "In this notebook, some template code has already been provided for you, and it will be your job to implement the additional functionality necessary to successfully complete this project. Sections that begin with 'Implementation' in the header indicate that the following block of code will require additional functionality which you must provide. Instructions will be provided for each section and the specifics of the implementation are marked in the code block with a 'TODO' statement. Please be sure to read the instructions carefully!\n",
        "\n",
        "In addition to implementing code, there will be questions that you must answer which relate to the project and your implementation. Each section where you will answer a question is preceded by a 'Question X' header. Carefully read each question and provide thorough answers in the following text boxes that begin with 'Answer:'. Your project submission will be evaluated based on your answers to each of the questions and the implementation you provide.\n",
        "\n",
        "Note: Please specify WHICH VERSION OF PYTHON you are using when submitting this notebook. Code and Markdown cells can be executed using the Shift + Enter keyboard shortcut. In addition, Markdown cells can be edited by typically double-clicking the cell to enter edit mode.\n",
        "\n",
        "Getting Started\n",
        "In this project, you will employ several supervised algorithms of your choice to accurately model individuals' income using data collected from the 1994 U.S. Census. You will then choose the best candidate algorithm from preliminary results and further optimize this algorithm to best model the data. Your goal with this implementation is to construct a model that accurately predicts whether an individual makes more than $50,000. This sort of task can arise in a non-profit setting, where organizations survive on donations. Understanding an individual's income can help a non-profit better understand how large of a donation to request, or whether or not they should reach out to begin with. While it can be difficult to determine an individual's general income bracket directly from public sources, we can (as we will see) infer this value from other publically available features.\n",
        "\n",
        "The dataset for this project originates from the UCI Machine Learning Repository. The datset was donated by Ron Kohavi and Barry Becker, after being published in the article \"Scaling Up the Accuracy of Naive-Bayes Classifiers: A Decision-Tree Hybrid\". You can find the article by Ron Kohavi online. The data we investigate here consists of small changes to the original dataset, such as removing the 'fnlwgt' feature and records with missing or ill-formatted entries."
      ]
    },
    {
      "cell_type": "markdown",
      "metadata": {
        "id": "dL99wEoy2eYZ"
      },
      "source": [
        "Exploring the Data\n",
        "Run the code cell below to load necessary Python libraries and load the census data. Note that the last column from this dataset, 'income', will be our target label (whether an individual makes more than, or at most, $50,000 annually). All other columns are features about each individual in the census database.\n"
      ]
    },
    {
      "cell_type": "code",
      "metadata": {
        "id": "T3tg1S982iqE"
      },
      "source": [
        "# Import libraries necessary for this project\n",
        "import numpy as np\n",
        "import pandas as pd\n",
        "from time import time\n",
        "from IPython.display import display # Allows the use of display() for DataFrames\n",
        "# Pretty display for notebooks\n",
        "%matplotlib inline\n",
        "\n",
        "import matplotlib.pyplot as plt\n"
      ],
      "execution_count": null,
      "outputs": []
    },
    {
      "cell_type": "code",
      "metadata": {
        "id": "uKPaTS0__zt7",
        "colab": {
          "base_uri": "https://localhost:8080/"
        },
        "outputId": "571615df-221c-4e48-80b7-557a97462320"
      },
      "source": [
        "from google.colab import drive\n",
        "drive.mount('/content/drive')\n",
        "\n",
        "#from google.colab import files\n",
        "#files.upload()\n",
        "\n",
        "# Import supplementary visualization code visuals.py\n",
        "import visuals as vs"
      ],
      "execution_count": null,
      "outputs": [
        {
          "output_type": "stream",
          "text": [
            "Drive already mounted at /content/drive; to attempt to forcibly remount, call drive.mount(\"/content/drive\", force_remount=True).\n"
          ],
          "name": "stdout"
        }
      ]
    },
    {
      "cell_type": "code",
      "metadata": {
        "colab": {
          "base_uri": "https://localhost:8080/",
          "height": 216
        },
        "id": "bDLg4Z0s2yi-",
        "outputId": "2b3c3c7f-aa2f-4034-b41e-5c14294b0ec6"
      },
      "source": [
        "# Load the Census dataset\n",
        "project_folder='/content/drive/My Drive/Colab Notebooks/Udacity_Supervised_Learning/'\n",
        "data = pd.read_csv(project_folder+'census.csv')\n",
        "\n",
        "# Success - Display the first record\n",
        "data.head(2)"
      ],
      "execution_count": null,
      "outputs": [
        {
          "output_type": "execute_result",
          "data": {
            "text/html": [
              "<div>\n",
              "<style scoped>\n",
              "    .dataframe tbody tr th:only-of-type {\n",
              "        vertical-align: middle;\n",
              "    }\n",
              "\n",
              "    .dataframe tbody tr th {\n",
              "        vertical-align: top;\n",
              "    }\n",
              "\n",
              "    .dataframe thead th {\n",
              "        text-align: right;\n",
              "    }\n",
              "</style>\n",
              "<table border=\"1\" class=\"dataframe\">\n",
              "  <thead>\n",
              "    <tr style=\"text-align: right;\">\n",
              "      <th></th>\n",
              "      <th>age</th>\n",
              "      <th>workclass</th>\n",
              "      <th>education_level</th>\n",
              "      <th>education-num</th>\n",
              "      <th>marital-status</th>\n",
              "      <th>occupation</th>\n",
              "      <th>relationship</th>\n",
              "      <th>race</th>\n",
              "      <th>sex</th>\n",
              "      <th>capital-gain</th>\n",
              "      <th>capital-loss</th>\n",
              "      <th>hours-per-week</th>\n",
              "      <th>native-country</th>\n",
              "      <th>income</th>\n",
              "    </tr>\n",
              "  </thead>\n",
              "  <tbody>\n",
              "    <tr>\n",
              "      <th>0</th>\n",
              "      <td>39</td>\n",
              "      <td>State-gov</td>\n",
              "      <td>Bachelors</td>\n",
              "      <td>13.0</td>\n",
              "      <td>Never-married</td>\n",
              "      <td>Adm-clerical</td>\n",
              "      <td>Not-in-family</td>\n",
              "      <td>White</td>\n",
              "      <td>Male</td>\n",
              "      <td>2174.0</td>\n",
              "      <td>0.0</td>\n",
              "      <td>40.0</td>\n",
              "      <td>United-States</td>\n",
              "      <td>&lt;=50K</td>\n",
              "    </tr>\n",
              "    <tr>\n",
              "      <th>1</th>\n",
              "      <td>50</td>\n",
              "      <td>Self-emp-not-inc</td>\n",
              "      <td>Bachelors</td>\n",
              "      <td>13.0</td>\n",
              "      <td>Married-civ-spouse</td>\n",
              "      <td>Exec-managerial</td>\n",
              "      <td>Husband</td>\n",
              "      <td>White</td>\n",
              "      <td>Male</td>\n",
              "      <td>0.0</td>\n",
              "      <td>0.0</td>\n",
              "      <td>13.0</td>\n",
              "      <td>United-States</td>\n",
              "      <td>&lt;=50K</td>\n",
              "    </tr>\n",
              "  </tbody>\n",
              "</table>\n",
              "</div>"
            ],
            "text/plain": [
              "   age          workclass  ...  native-country  income\n",
              "0   39          State-gov  ...   United-States   <=50K\n",
              "1   50   Self-emp-not-inc  ...   United-States   <=50K\n",
              "\n",
              "[2 rows x 14 columns]"
            ]
          },
          "metadata": {
            "tags": []
          },
          "execution_count": 29
        }
      ]
    },
    {
      "cell_type": "markdown",
      "metadata": {
        "id": "GfCU-vcj3B4g"
      },
      "source": [
        "Implementation: Data Exploration\n",
        "A cursory investigation of the dataset will determine how many individuals fit into either group, and will tell us about the percentage of these individuals making more than $50,000. In the code cell below, you will need to compute the following:\n",
        "\n",
        "- The total number of records, 'n_records'\n",
        "- The number of individuals making more than 50,000 annually, n_greater_50k\n",
        "-The number of individuals making at most 50,000   \n",
        " annually, 'n_at_most_50k'.\n",
        "- The percentage of individuals making more than $50,000 annually, 'greater_percent'.\n",
        "** HINT: ** You may need to look at the table above to understand how the 'income' entries are formatted.\n"
      ]
    },
    {
      "cell_type": "code",
      "metadata": {
        "colab": {
          "base_uri": "https://localhost:8080/"
        },
        "id": "_IBJmPNJ41dF",
        "outputId": "af2dc458-89a8-4570-caac-ebada5246851"
      },
      "source": [
        "data.columns"
      ],
      "execution_count": null,
      "outputs": [
        {
          "output_type": "execute_result",
          "data": {
            "text/plain": [
              "Index(['age', 'workclass', 'education_level', 'education-num',\n",
              "       'marital-status', 'occupation', 'relationship', 'race', 'sex',\n",
              "       'capital-gain', 'capital-loss', 'hours-per-week', 'native-country',\n",
              "       'income'],\n",
              "      dtype='object')"
            ]
          },
          "metadata": {
            "tags": []
          },
          "execution_count": 5
        }
      ]
    },
    {
      "cell_type": "code",
      "metadata": {
        "colab": {
          "base_uri": "https://localhost:8080/"
        },
        "id": "U6iEtGC-3Fw5",
        "outputId": "760b7a8a-be81-4faa-a298-0dcfb45cbe8f"
      },
      "source": [
        "# TODO: Total number of records\n",
        "n_records=data.shape[0]\n",
        "# TODO: Number of records where individual's income is more than $50,000\n",
        "n_greater_than_50k=data[ data['income']=='>50K' ].shape[0]\n",
        "# TODO: Number of records where individual's income is at most $50,000\n",
        "n_at_most_50k=data[ data['income']=='<=50K' ].shape[0]\n",
        "# TODO: Percentage of individuals whose income is more than $50,000\n",
        "pct_greater_50k=n_greater_than_50k/n_records\n",
        "# Print the results\n",
        "print('Total Records={}, Bigger than 50k={}, Less than 50k={}, % greater than 50k={}'.format(n_records,n_greater_than_50k,n_at_most_50k,pct_greater_50k) )\n"
      ],
      "execution_count": null,
      "outputs": [
        {
          "output_type": "stream",
          "text": [
            "Total Records=45222, Bigger than 50k=11208, Less than 50k=34014, % greater than 50k=0.2478439697492371\n"
          ],
          "name": "stdout"
        }
      ]
    },
    {
      "cell_type": "markdown",
      "metadata": {
        "id": "7oSen5UZ9ZRN"
      },
      "source": [
        "** Featureset Exploration **\n",
        "\n",
        "age: continuous.\n",
        "workclass: Private, Self-emp-not-inc, Self-emp-inc, Federal-gov, Local-gov, State-gov, Without-pay, Never-worked.\n",
        "education: Bachelors, Some-college, 11th, HS-grad, Prof-school, Assoc-acdm, Assoc-voc, 9th, 7th-8th, 12th, Masters, 1st-4th, 10th, Doctorate, 5th-6th, Preschool.\n",
        "education-num: continuous.\n",
        "marital-status: Married-civ-spouse, Divorced, Never-married, Separated, Widowed, Married-spouse-absent, Married-AF-spouse.\n",
        "occupation: Tech-support, Craft-repair, Other-service, Sales, Exec-managerial, Prof-specialty, Handlers-cleaners, Machine-op-inspct, Adm-clerical, Farming-fishing, Transport-moving, Priv-house-serv, Protective-serv, Armed-Forces.\n",
        "relationship: Wife, Own-child, Husband, Not-in-family, Other-relative, Unmarried.\n",
        "race: Black, White, Asian-Pac-Islander, Amer-Indian-Eskimo, Other.\n",
        "sex: Female, Male.\n",
        "capital-gain: continuous.\n",
        "capital-loss: continuous.\n",
        "hours-per-week: continuous.\n",
        "native-country: United-States, Cambodia, England, Puerto-Rico, Canada, Germany, Outlying-US(Guam-USVI-etc), India, Japan, Greece, South, China, Cuba, Iran, Honduras, Philippines, Italy, Poland, Jamaica, Vietnam, Mexico, Portugal, Ireland, France, Dominican-Republic, Laos, Ecuador, Taiwan, Haiti, Columbia, Hungary, Guatemala, Nicaragua, Scotland, Thailand, Yugoslavia, El-Salvador, Trinadad&Tobago, Peru, Hong, Holand-Netherlands."
      ]
    },
    {
      "cell_type": "markdown",
      "metadata": {
        "id": "ZhFMq_kS9glL"
      },
      "source": [
        "Preparing the Data\n",
        "Before data can be used as input for machine learning algorithms, it often must be cleaned, formatted, and restructured — this is typically known as preprocessing. Fortunately, for this dataset, there are no invalid or missing entries we must deal with, however, there are some qualities about certain features that must be adjusted. This preprocessing can help tremendously with the outcome and predictive power of nearly all learning algorithms.\n",
        "\n"
      ]
    },
    {
      "cell_type": "markdown",
      "metadata": {
        "id": "-FsG0lCR9kOG"
      },
      "source": [
        "***Transforming Skewed Continuous Features.***\n",
        "A dataset may sometimes contain at least one feature whose values tend to lie near a single number, but will also have a non-trivial number of vastly larger or smaller values than that single number. Algorithms can be sensitive to such distributions of values and can underperform if the range is not properly normalized. With the census dataset two features fit this description: 'capital-gain' and 'capital-loss'.\n",
        "\n",
        "Run the code cell below to plot a histogram of these two features. Note the range of the values present and how they are distributed.\n"
      ]
    },
    {
      "cell_type": "code",
      "metadata": {
        "id": "AXjf50FG9o5I"
      },
      "source": [
        "# Split the data into features and target label\n",
        "income_raw=data['income']\n",
        "features_raw=data.drop('income',axis=1)"
      ],
      "execution_count": null,
      "outputs": []
    },
    {
      "cell_type": "code",
      "metadata": {
        "id": "xCeU5Kp3_NsL"
      },
      "source": [
        "# Visualize skewed continuous features of original data\n",
        "def plot_2_barcharts(df,feat_1,feat_2):\n",
        "  plt.figure( figsize=(10,5))\n",
        "\n",
        "  plt.subplot(1,2,1)\n",
        "  plt.hist(df[feat_1])\n",
        "  plt.xlabel('value')\n",
        "  plt.ylabel('# of records')\n",
        "  plt.title(feat_1)\n",
        "\n",
        "  plt.subplot(1,2,2)\n",
        "  plt.hist(df[feat_2])\n",
        "  plt.xlabel('value')\n",
        "  plt.ylabel('# of records')\n",
        "  plt.title(feat_2)\n"
      ],
      "execution_count": null,
      "outputs": []
    },
    {
      "cell_type": "code",
      "metadata": {
        "colab": {
          "base_uri": "https://localhost:8080/",
          "height": 350
        },
        "id": "0V9B7G5_GD-l",
        "outputId": "f20524b9-2d47-4869-80c1-5ab6cb74a7a5"
      },
      "source": [
        "plot_2_barcharts(features_raw,'capital-gain' , 'capital-loss')\n"
      ],
      "execution_count": null,
      "outputs": [
        {
          "output_type": "display_data",
          "data": {
            "image/png": "[encoded data removed]",
            "text/plain": [
              "<Figure size 720x360 with 2 Axes>"
            ]
          },
          "metadata": {
            "tags": [],
            "needs_background": "light"
          }
        }
      ]
    },
    {
      "cell_type": "markdown",
      "metadata": {
        "id": "5o_iVSUPDNDH"
      },
      "source": [
        "So we have many people with small capital gains, but many people with very large capital gains.  \n",
        "We need to apply transformations, i.e. log-transform.\n",
        "\n"
      ]
    },
    {
      "cell_type": "markdown",
      "metadata": {
        "id": "ROIvkFq4DraB"
      },
      "source": [
        "For highly-skewed feature distributions such as 'capital-gain' and 'capital-loss', it is common practice to apply a ***logarithmic transformation*** on the data so that the very large and very small values do not negatively affect the performance of a learning algorithm. Using a logarithmic transformation significantly reduces the range of values caused by outliers. Care must be taken when applying this transformation however: The logarithm of 0 is undefined, so we must translate the values by a small amount above 0 to apply the the logarithm successfully.\n",
        "\n",
        "Run the code cell below to perform a transformation on the data and visualize the results. Again, note the range of values and how they are distributed."
      ]
    },
    {
      "cell_type": "code",
      "metadata": {
        "colab": {
          "base_uri": "https://localhost:8080/",
          "height": 216
        },
        "id": "kh0FzNJMSUm9",
        "outputId": "1c58efd8-2730-4f17-a4e5-932d25249ddd"
      },
      "source": [
        "features_raw.head(2)\n"
      ],
      "execution_count": null,
      "outputs": [
        {
          "output_type": "execute_result",
          "data": {
            "text/html": [
              "<div>\n",
              "<style scoped>\n",
              "    .dataframe tbody tr th:only-of-type {\n",
              "        vertical-align: middle;\n",
              "    }\n",
              "\n",
              "    .dataframe tbody tr th {\n",
              "        vertical-align: top;\n",
              "    }\n",
              "\n",
              "    .dataframe thead th {\n",
              "        text-align: right;\n",
              "    }\n",
              "</style>\n",
              "<table border=\"1\" class=\"dataframe\">\n",
              "  <thead>\n",
              "    <tr style=\"text-align: right;\">\n",
              "      <th></th>\n",
              "      <th>age</th>\n",
              "      <th>workclass</th>\n",
              "      <th>education_level</th>\n",
              "      <th>education-num</th>\n",
              "      <th>marital-status</th>\n",
              "      <th>occupation</th>\n",
              "      <th>relationship</th>\n",
              "      <th>race</th>\n",
              "      <th>sex</th>\n",
              "      <th>capital-gain</th>\n",
              "      <th>capital-loss</th>\n",
              "      <th>hours-per-week</th>\n",
              "      <th>native-country</th>\n",
              "    </tr>\n",
              "  </thead>\n",
              "  <tbody>\n",
              "    <tr>\n",
              "      <th>0</th>\n",
              "      <td>39</td>\n",
              "      <td>State-gov</td>\n",
              "      <td>Bachelors</td>\n",
              "      <td>13.0</td>\n",
              "      <td>Never-married</td>\n",
              "      <td>Adm-clerical</td>\n",
              "      <td>Not-in-family</td>\n",
              "      <td>White</td>\n",
              "      <td>Male</td>\n",
              "      <td>2174.0</td>\n",
              "      <td>0.0</td>\n",
              "      <td>40.0</td>\n",
              "      <td>United-States</td>\n",
              "    </tr>\n",
              "    <tr>\n",
              "      <th>1</th>\n",
              "      <td>50</td>\n",
              "      <td>Self-emp-not-inc</td>\n",
              "      <td>Bachelors</td>\n",
              "      <td>13.0</td>\n",
              "      <td>Married-civ-spouse</td>\n",
              "      <td>Exec-managerial</td>\n",
              "      <td>Husband</td>\n",
              "      <td>White</td>\n",
              "      <td>Male</td>\n",
              "      <td>0.0</td>\n",
              "      <td>0.0</td>\n",
              "      <td>13.0</td>\n",
              "      <td>United-States</td>\n",
              "    </tr>\n",
              "  </tbody>\n",
              "</table>\n",
              "</div>"
            ],
            "text/plain": [
              "   age          workclass  ... hours-per-week  native-country\n",
              "0   39          State-gov  ...           40.0   United-States\n",
              "1   50   Self-emp-not-inc  ...           13.0   United-States\n",
              "\n",
              "[2 rows x 13 columns]"
            ]
          },
          "metadata": {
            "tags": []
          },
          "execution_count": 34
        }
      ]
    },
    {
      "cell_type": "code",
      "metadata": {
        "id": "tutuDDusD-4Z"
      },
      "source": [
        "# Log-transform the skewed features\n",
        "skewed = ['capital-gain', 'capital-loss']\n",
        "\n",
        "features_log= pd.DataFrame(data=features_raw)\n",
        "for col in skewed:\n",
        "  features_log[col] = [ np.log(x+1) for x in features_raw[col] ]\n"
      ],
      "execution_count": null,
      "outputs": []
    },
    {
      "cell_type": "code",
      "metadata": {
        "colab": {
          "base_uri": "https://localhost:8080/",
          "height": 216
        },
        "id": "08cH3nmOR9Hz",
        "outputId": "5ba4d926-3ea2-4d8b-9c62-2a7248f268ce"
      },
      "source": [
        "  features_log.head(2)"
      ],
      "execution_count": null,
      "outputs": [
        {
          "output_type": "execute_result",
          "data": {
            "text/html": [
              "<div>\n",
              "<style scoped>\n",
              "    .dataframe tbody tr th:only-of-type {\n",
              "        vertical-align: middle;\n",
              "    }\n",
              "\n",
              "    .dataframe tbody tr th {\n",
              "        vertical-align: top;\n",
              "    }\n",
              "\n",
              "    .dataframe thead th {\n",
              "        text-align: right;\n",
              "    }\n",
              "</style>\n",
              "<table border=\"1\" class=\"dataframe\">\n",
              "  <thead>\n",
              "    <tr style=\"text-align: right;\">\n",
              "      <th></th>\n",
              "      <th>age</th>\n",
              "      <th>workclass</th>\n",
              "      <th>education_level</th>\n",
              "      <th>education-num</th>\n",
              "      <th>marital-status</th>\n",
              "      <th>occupation</th>\n",
              "      <th>relationship</th>\n",
              "      <th>race</th>\n",
              "      <th>sex</th>\n",
              "      <th>capital-gain</th>\n",
              "      <th>capital-loss</th>\n",
              "      <th>hours-per-week</th>\n",
              "      <th>native-country</th>\n",
              "    </tr>\n",
              "  </thead>\n",
              "  <tbody>\n",
              "    <tr>\n",
              "      <th>0</th>\n",
              "      <td>39</td>\n",
              "      <td>State-gov</td>\n",
              "      <td>Bachelors</td>\n",
              "      <td>13.0</td>\n",
              "      <td>Never-married</td>\n",
              "      <td>Adm-clerical</td>\n",
              "      <td>Not-in-family</td>\n",
              "      <td>White</td>\n",
              "      <td>Male</td>\n",
              "      <td>7.684784</td>\n",
              "      <td>0.0</td>\n",
              "      <td>40.0</td>\n",
              "      <td>United-States</td>\n",
              "    </tr>\n",
              "    <tr>\n",
              "      <th>1</th>\n",
              "      <td>50</td>\n",
              "      <td>Self-emp-not-inc</td>\n",
              "      <td>Bachelors</td>\n",
              "      <td>13.0</td>\n",
              "      <td>Married-civ-spouse</td>\n",
              "      <td>Exec-managerial</td>\n",
              "      <td>Husband</td>\n",
              "      <td>White</td>\n",
              "      <td>Male</td>\n",
              "      <td>0.000000</td>\n",
              "      <td>0.0</td>\n",
              "      <td>13.0</td>\n",
              "      <td>United-States</td>\n",
              "    </tr>\n",
              "  </tbody>\n",
              "</table>\n",
              "</div>"
            ],
            "text/plain": [
              "   age          workclass  ... hours-per-week  native-country\n",
              "0   39          State-gov  ...           40.0   United-States\n",
              "1   50   Self-emp-not-inc  ...           13.0   United-States\n",
              "\n",
              "[2 rows x 13 columns]"
            ]
          },
          "metadata": {
            "tags": []
          },
          "execution_count": 36
        }
      ]
    },
    {
      "cell_type": "code",
      "metadata": {
        "colab": {
          "base_uri": "https://localhost:8080/",
          "height": 350
        },
        "id": "ZHxGif0JGety",
        "outputId": "7be78ef6-0b4e-4256-809e-9e37a56b6533"
      },
      "source": [
        "plot_2_barcharts(features_log,'capital-gain' , 'capital-loss')"
      ],
      "execution_count": null,
      "outputs": [
        {
          "output_type": "display_data",
          "data": {
            "image/png": "[encoded data removed]",
            "text/plain": [
              "<Figure size 720x360 with 2 Axes>"
            ]
          },
          "metadata": {
            "tags": [],
            "needs_background": "light"
          }
        }
      ]
    },
    {
      "cell_type": "markdown",
      "metadata": {
        "id": "_7D63QHnIUBO"
      },
      "source": [
        "***Normalizing Numerical Features***. In addition to performing transformations on features that are highly skewed, it is often good practice to perform some type of scaling on numerical features.   \n",
        "Applying a scaling to the data does not change the shape of each feature's distribution (such as 'capital-gain' or 'capital-loss' \n",
        "above);   \n",
        "however, ***normalization*** ensures that each feature is \n",
        "treated equally when applying supervised learners. Note \n",
        "that once scaling is applied, observing the data in its raw form will no longer have the same original meaning, as exampled below.\n",
        "\n",
        "Run the code cell below to normalize each numerical feature. We will use ***sklearn.preprocessing.MinMaxScaler*** for this."
      ]
    },
    {
      "cell_type": "code",
      "metadata": {
        "id": "jhHfq7mtI1wN"
      },
      "source": [
        "# Import sklearn.preprocessing.StandardScaler\n",
        "from sklearn.preprocessing import MinMaxScaler\n",
        "\n",
        "# Initialize a scaler, then apply it to the features\n",
        "scaler=MinMaxScaler()\n",
        "numerical_features = ['age', 'education-num', 'capital-gain', 'capital-loss', 'hours-per-week']\n",
        "\n",
        "features_log_minmax = pd.DataFrame(data = features_log)\n",
        "features_log_minmax[numerical_features] = scaler.fit_transform(features_log[numerical_features])\n"
      ],
      "execution_count": null,
      "outputs": []
    },
    {
      "cell_type": "code",
      "metadata": {
        "colab": {
          "base_uri": "https://localhost:8080/",
          "height": 216
        },
        "id": "kd_EtTlfNBBf",
        "outputId": "c02a65f6-de46-473c-9f44-1788982e25ed"
      },
      "source": [
        "features_log_minmax.head(2)"
      ],
      "execution_count": null,
      "outputs": [
        {
          "output_type": "execute_result",
          "data": {
            "text/html": [
              "<div>\n",
              "<style scoped>\n",
              "    .dataframe tbody tr th:only-of-type {\n",
              "        vertical-align: middle;\n",
              "    }\n",
              "\n",
              "    .dataframe tbody tr th {\n",
              "        vertical-align: top;\n",
              "    }\n",
              "\n",
              "    .dataframe thead th {\n",
              "        text-align: right;\n",
              "    }\n",
              "</style>\n",
              "<table border=\"1\" class=\"dataframe\">\n",
              "  <thead>\n",
              "    <tr style=\"text-align: right;\">\n",
              "      <th></th>\n",
              "      <th>age</th>\n",
              "      <th>workclass</th>\n",
              "      <th>education_level</th>\n",
              "      <th>education-num</th>\n",
              "      <th>marital-status</th>\n",
              "      <th>occupation</th>\n",
              "      <th>relationship</th>\n",
              "      <th>race</th>\n",
              "      <th>sex</th>\n",
              "      <th>capital-gain</th>\n",
              "      <th>capital-loss</th>\n",
              "      <th>hours-per-week</th>\n",
              "      <th>native-country</th>\n",
              "    </tr>\n",
              "  </thead>\n",
              "  <tbody>\n",
              "    <tr>\n",
              "      <th>0</th>\n",
              "      <td>0.301370</td>\n",
              "      <td>State-gov</td>\n",
              "      <td>Bachelors</td>\n",
              "      <td>0.8</td>\n",
              "      <td>Never-married</td>\n",
              "      <td>Adm-clerical</td>\n",
              "      <td>Not-in-family</td>\n",
              "      <td>White</td>\n",
              "      <td>Male</td>\n",
              "      <td>0.667492</td>\n",
              "      <td>0.0</td>\n",
              "      <td>0.397959</td>\n",
              "      <td>United-States</td>\n",
              "    </tr>\n",
              "    <tr>\n",
              "      <th>1</th>\n",
              "      <td>0.452055</td>\n",
              "      <td>Self-emp-not-inc</td>\n",
              "      <td>Bachelors</td>\n",
              "      <td>0.8</td>\n",
              "      <td>Married-civ-spouse</td>\n",
              "      <td>Exec-managerial</td>\n",
              "      <td>Husband</td>\n",
              "      <td>White</td>\n",
              "      <td>Male</td>\n",
              "      <td>0.000000</td>\n",
              "      <td>0.0</td>\n",
              "      <td>0.122449</td>\n",
              "      <td>United-States</td>\n",
              "    </tr>\n",
              "  </tbody>\n",
              "</table>\n",
              "</div>"
            ],
            "text/plain": [
              "        age          workclass  ... hours-per-week  native-country\n",
              "0  0.301370          State-gov  ...       0.397959   United-States\n",
              "1  0.452055   Self-emp-not-inc  ...       0.122449   United-States\n",
              "\n",
              "[2 rows x 13 columns]"
            ]
          },
          "metadata": {
            "tags": []
          },
          "execution_count": 39
        }
      ]
    },
    {
      "cell_type": "markdown",
      "metadata": {
        "id": "ogLQiMKINOw6"
      },
      "source": [
        "***Implementation: Data Preprocessing***. \n",
        "\n",
        "From the table in Exploring-the-Data above, we can see there are several features for each record that are ***non-numeric.***   \n",
        "Typically, learning algorithms expect input to be numeric, which requires that non-numeric features (called ***categorical*** variables) be ***converted***.  \n",
        "One popular way to convert categorical variables is by using the one-hot encoding scheme.  \n",
        "***One-hot encoding*** creates a \"***dummy***\" variable for each possible category of each non-numeric feature.  \n",
        "For example, assume ***someFeature*** has three possible entries: A, B, or C. We then encode this feature into someFeature_A, someFeature_B and someFeature_C.\n"
      ]
    },
    {
      "cell_type": "markdown",
      "metadata": {
        "id": "AEWhb-TbOer-"
      },
      "source": [
        "![table.png](data:image/png;base64,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)"
      ]
    },
    {
      "cell_type": "markdown",
      "metadata": {
        "id": "RGn_zKkGO18g"
      },
      "source": [
        "Additionally, as with the non-numeric features, we need to convert the non-numeric target label, 'income' to numerical values for the learning algorithm to work. Since there are only two possible categories for this label (\"<=50K\" and \">50K\"), we can avoid using one-hot encoding and simply encode these two categories as 0 and 1, respectively. In code cell below, you will need to implement the following:\n",
        "\n",
        "Use ***pandas.get_dummies()*** to perform one-hot encoding on the '***features_log_minmax***' data.\n",
        "Convert the target label 'income_raw' to numerical entries.\n",
        "Set records with \"<=50K\" to 0 and records with \">50K\" to 1."
      ]
    },
    {
      "cell_type": "code",
      "metadata": {
        "colab": {
          "base_uri": "https://localhost:8080/"
        },
        "id": "N_Fcsc6xOZ7h",
        "outputId": "7da55922-22bf-48bd-a678-cdb64696ef4a"
      },
      "source": [
        "# TODO: One-hot encode the 'features_log_minmax' data using pandas.get_dummies()\n",
        "features_final=pd.get_dummies(features_log_minmax)\n",
        "# TODO: Encode the 'income_raw' data to numerical values\n",
        "income_final=income_raw.map( {'<=50K':0 , '>50K':1} )\n",
        "\n",
        "# Print the number of features after one-hot encoding\n",
        "print('After One-Hot-Encoding I have {} features'.format(features_final.shape[1] ) )\n",
        "# Uncomment the following line to see the encoded feature names\n",
        "#print (encoded)"
      ],
      "execution_count": null,
      "outputs": [
        {
          "output_type": "stream",
          "text": [
            "After One-Hot-Encoding I have 103 features\n"
          ],
          "name": "stdout"
        }
      ]
    },
    {
      "cell_type": "code",
      "metadata": {
        "colab": {
          "base_uri": "https://localhost:8080/"
        },
        "id": "BnXRZJ2IQUb2",
        "outputId": "bfe6a277-c3b4-4e5b-e05b-8707f11e4dcc"
      },
      "source": [
        "#features_final.head(2)\n",
        "income_final.head(3)"
      ],
      "execution_count": null,
      "outputs": [
        {
          "output_type": "execute_result",
          "data": {
            "text/plain": [
              "0    0\n",
              "1    0\n",
              "2    0\n",
              "Name: income, dtype: int64"
            ]
          },
          "metadata": {
            "tags": []
          },
          "execution_count": 41
        }
      ]
    },
    {
      "cell_type": "markdown",
      "metadata": {
        "id": "WHHmxs_WVYwC"
      },
      "source": [
        "***Shuffle and Split Data***.  \n",
        "\n",
        "Now all ***categorical*** variables have been ***converted*** into numerical features, and all numerical features have been ***normalized***.   \n",
        "As always, we will now ***split*** the data (both features and their labels) into ***training*** and test sets. 80% of the data will be used for training and 20% for testing.\n",
        "\n",
        "Run the code cell below to perform this split."
      ]
    },
    {
      "cell_type": "code",
      "metadata": {
        "colab": {
          "base_uri": "https://localhost:8080/"
        },
        "id": "qfB8dcWFV6Ad",
        "outputId": "79f99003-53a6-440d-9cb8-4fc2d399153c"
      },
      "source": [
        "# Import train_test_split\n",
        "from sklearn.model_selection import train_test_split\n",
        "\n",
        "# Split the 'features' and 'income' data into training and testing sets\n",
        "X_train, X_test, y_train, y_test = train_test_split( features_final, income_final,\n",
        "                                                    test_size=0.2, random_state=0)\n",
        "\n",
        "# Show the results of the split\n",
        "print('Training set has {} samples'.format(X_train.shape[0] ) )\n",
        "print('Testing set has {} samples'.format(X_test.shape[0] ) )\n"
      ],
      "execution_count": null,
      "outputs": [
        {
          "output_type": "stream",
          "text": [
            "Training set has 36177 samples\n",
            "Testing set has 9045 samples\n"
          ],
          "name": "stdout"
        }
      ]
    },
    {
      "cell_type": "markdown",
      "metadata": {
        "id": "kgtb8MUvY7VR"
      },
      "source": [
        "***Evaluating Model Performance***. \n",
        "\n",
        "In this section, we will investigate four different algorithms, and determine which is best at modeling the data. Three of these algorithms will be **supervised** ***learners*** of your choice, and the fourth algorithm is known as a ***naive predictor***.\n",
        "\n",
        "***Metrics and the Naive Predictor.***  \n",
        "\n",
        "CharityML, equipped with their research, knows individuals that make more than 50,000 are most likely to donate to their charity. Because of this, CharityML is particularly interested in predicting who makes more than 50,000 accurately.  \n",
        "It would seem that using accuracy as a metric for evaluating a particular model's performace would be appropriate.  \n",
        "Additionally, identifying someone that does not make more than 50,000 as someone who does would be detrimental to CharityML, since they are looking to find individuals willing to donate.  \n",
        "Therefore, a model's ability to precisely predict those that make more than 50,000 is more important than the model's ability to recall those individuals.  \n",
        "We can use F-beta score as a metric that considers both precision and recall:\n",
        "\n",
        "\n"
      ]
    },
    {
      "cell_type": "markdown",
      "metadata": {
        "id": "4L00MJcVaYk6"
      },
      "source": [
        "![f.png](data:image/png;base64,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)"
      ]
    },
    {
      "cell_type": "markdown",
      "metadata": {
        "id": "G-yCkcVlaox_"
      },
      "source": [
        "In particular, when  𝛽=0.5 , more emphasis is placed on precision. This is called the F 0.5  score (or F-score for simplicity).\n",
        "\n",
        "Looking at the distribution of classes (those who make at most  50,000 𝑎𝑛𝑑 𝑡ℎ𝑜𝑠𝑒 𝑤ℎ𝑜 𝑚𝑎𝑘𝑒 𝑚𝑜𝑟𝑒), 𝑖𝑡's clear most individuals do not make more than 50,000.  \n",
        "\n",
        "This can greatly affect accuracy, since we could simply say \"t***his person does not make more than 50,000\"*** and generally be right, without ever looking at the data!   \n",
        "Making such a statement would be called ***naive***, since we have not considered any information to substantiate the claim. It is always important to consider the ***naive prediction*** for your data, to help establish a ***benchmark*** for whether a model is performing well.  \n",
        "That been said, using that prediction would be pointless: If we predicted all people made less than 50,000, CharityML would identify no one as donors.\n",
        "\n",
        "Note: Recap of accuracy, precision, recall:  \n",
        "***Accuracy:*** measures how often the classifier makes the correct prediction. It’s the ratio of the number of correct predictions to the total number of predictions (the number of test data points).\n",
        "\n",
        "***Precision***: tells us what proportion of messages we classified as spam, actually were spam. It is a ratio of true positives(words classified as spam, and which are actually spam) to all positives(all words classified as spam, irrespective of whether that was the correct classificatio), in other words it is the ratio of\n",
        "\n",
        "[True Positives/(True Positives + False Positives)]\n",
        "\n",
        "** Recall(sensitivity)** tells us what proportion of messages that actually were spam were classified by us as spam. It is a ratio of true positives(words classified as spam, and which are actually spam) to all the words that were actually spam, in other words it is the ratio of\n",
        "\n",
        "[True Positives/(True Positives + False Negatives)]\n",
        "\n",
        "For classification problems that are skewed in their classification distributions like in our case, for example if we had a 100 text messages and only 2 were spam and the rest 98 weren't, accuracy by itself is not a very good metric. We could classify 90 messages as not spam(including the 2 that were spam but we classify them as not spam, hence they would be false negatives) and 10 as spam(all 10 false positives) and still get a reasonably good accuracy score. For such cases, precision and recall come in very handy.  \n",
        "These two metrics can be combined to get the F1 score, which is weighted average(harmonic mean) of the precision and recall scores. This score can range from 0 to 1, with 1 being the best possible F1 score(we take the harmonic mean as we are dealing with ratios)."
      ]
    },
    {
      "cell_type": "markdown",
      "metadata": {
        "id": "BEJPd0kZdrm5"
      },
      "source": [
        "**Question 1 - Naive Predictor Performace.** \n",
        "\n",
        "If we chose a model that always predicted an individual made more than $50,000, what would that model's accuracy and F-score be on this dataset? You must use the code cell below and assign your results to 'accuracy' and 'fscore' to be used later.\n",
        "\n",
        "** Please note ** that the the purpose of generating a naive predictor is simply to show what a base model without any intelligence would look like. In the real world, ideally your base model would be either the results of a previous model or could be based on a research paper upon which you are looking to improve. When there is no benchmark model set, getting a result better than random choice is a place you could start from.\n",
        "\n",
        "** HINT: **\n",
        "\n",
        "When we have a model that always predicts '1' (i.e. the individual makes more than 50k) then our model will have no True Negatives(TN) or False Negatives(FN) as we are not making any negative('0' value) predictions. Therefore our Accuracy in this case becomes the same as our Precision(True Positives/(True Positives + False Positives)) as every prediction that we have made with value '1' that should have '0' becomes a False Positive; therefore our denominator in this case is the total number of records we have in total.\n",
        "Our Recall score(True Positives/(True Positives + False Negatives)) in this setting becomes 1 as we have no False Negatives.\n"
      ]
    },
    {
      "cell_type": "code",
      "metadata": {
        "colab": {
          "base_uri": "https://localhost:8080/"
        },
        "id": "KaQ_0aIKJSKd",
        "outputId": "87ac562d-f802-4876-ff3e-555ce38662e4"
      },
      "source": [
        "'''\n",
        "TP = np.sum(income) # Counting the ones as this is the naive case. Note that 'income' is the 'income_raw' data \n",
        "encoded to numerical values done in the data preprocessing step.\n",
        "FP = income.count() - TP # Specific to the naive case\n",
        "\n",
        "TN = 0 # No predicted negatives in the naive case\n",
        "FN = 0 # No predicted negatives in the naive case\n",
        "'''\n",
        "\n",
        "# TODO: Calculate accuracy, precision and recall\n",
        "TP=np.sum(income_final)\n",
        "FP=income_final.count()-TP\n",
        "TN=0\n",
        "FN=0\n",
        "\n",
        "accuracy=(TP+TN)/(TP+FP+FN+TN)\n",
        "recall=TP / (TP+FN)\n",
        "precision = TP/(TP+FP)\n",
        "\n",
        "# TODO: Calculate F-score using the formula above for beta = 0.5 and correct values for precision and recall.\n",
        "beta=0.5\n",
        "fscore = (1+beta**2) * (precision*recall)/(beta**2  * precision +recall )\n",
        "\n",
        "# Print the results \n",
        "print(\"Naive Predictor: [Accuracy score: {:.4f}, F-score: {:.4f}]\".format(accuracy, fscore))\n"
      ],
      "execution_count": null,
      "outputs": [
        {
          "output_type": "stream",
          "text": [
            "Naive Predictor: [Accuracy score: 0.2478, F-score: 0.2917]\n"
          ],
          "name": "stdout"
        }
      ]
    },
    {
      "cell_type": "code",
      "metadata": {
        "colab": {
          "base_uri": "https://localhost:8080/"
        },
        "id": "iCvCB1veU4LA",
        "outputId": "36ab8a95-c024-47fa-8e44-022b00e66053"
      },
      "source": [
        "print('\\n ---- NAIVE PREDICTOR ----')\n",
        "print('\\n TP=',TP)\n",
        "print('\\n FP=',FP)\n",
        "print('\\n accuracy=',accuracy)\n",
        "print('\\n recall=',recall)\n",
        "print('\\n precision=',precision)\n",
        "print('\\n F-SCORE=',fscore )\n"
      ],
      "execution_count": null,
      "outputs": [
        {
          "output_type": "stream",
          "text": [
            "\n",
            " ---- NAIVE PREDICTOR ----\n",
            "\n",
            " TP= 11208\n",
            "\n",
            " FP= 34014\n",
            "\n",
            " accuracy= 0.2478439697492371\n",
            "\n",
            " recall= 1.0\n",
            "\n",
            " precision= 0.2478439697492371\n",
            "\n",
            " F-SCORE= 0.29172913543228385\n"
          ],
          "name": "stdout"
        }
      ]
    },
    {
      "cell_type": "markdown",
      "metadata": {
        "id": "_M_05XbqdjaL"
      },
      "source": [
        "***Question 2 - Model Application***  \n",
        "\n",
        "List three of the supervised learning models above that are appropriate for this problem that you will test on the census data. For each model chosen\n",
        "\n",
        "Describe one real-world application in industry where the model can be applied.\n",
        "What are the strengths of the model; when does it perform well?\n",
        "What are the weaknesses of the model; when does it perform poorly?\n",
        "What makes this model a good candidate for the problem, given what you know about the data?\n",
        "** HINT: **\n",
        "\n",
        "Structure your answer in the same format as above^, with 4 parts for each of the three models you pick. Please include references with your answer.\n",
        "\n"
      ]
    },
    {
      "cell_type": "markdown",
      "metadata": {
        "id": "EGqCbofzeF_5"
      },
      "source": [
        "1. Logistic Regression\n",
        "2. Decision Trees\n",
        "3. Naive Bayes\n",
        "4. SVMs\n",
        "5. Ensemble "
      ]
    },
    {
      "cell_type": "markdown",
      "metadata": {
        "id": "MYZOLQIpjDXt"
      },
      "source": [
        "**Decision Trees in Sklearn**. \n"
      ]
    },
    {
      "cell_type": "code",
      "metadata": {
        "id": "pYQ-VV2rd8Mt"
      },
      "source": [
        "from sklearn.tree import DecisionTreeClassifier\n",
        "\n",
        "model=DecisionTreeClassifier()\n",
        "model.fit(X_train,y_train)\n",
        "y_pred=model.predict(X_test)\n"
      ],
      "execution_count": null,
      "outputs": []
    }
  ]
}