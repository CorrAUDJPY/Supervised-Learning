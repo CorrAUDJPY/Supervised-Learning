{
  "nbformat": 4,
  "nbformat_minor": 0,
  "metadata": {
    "colab": {
      "name": "SVM.ipynb",
      "provenance": [],
      "collapsed_sections": [],
      "authorship_tag": "ABX9TyNS5PqvtPiAdT5ZUctnJSwq",
      "include_colab_link": true
    },
    "kernelspec": {
      "name": "python3",
      "display_name": "Python 3"
    }
  },
  "cells": [
    {
      "cell_type": "markdown",
      "metadata": {
        "id": "view-in-github",
        "colab_type": "text"
      },
      "source": [
        "<a href=\"https://colab.research.google.com/github/CorrAUDJPY/Supervised-Learning/blob/main/SVM.ipynb\" target=\"_parent\"><img src=\"https://colab.research.google.com/assets/colab-badge.svg\" alt=\"Open In Colab\"/></a>"
      ]
    },
    {
      "cell_type": "code",
      "metadata": {
        "colab": {
          "base_uri": "https://localhost:8080/"
        },
        "id": "49tTtTfANzm_",
        "outputId": "935ad1af-5afc-42e9-fd9a-a50665865449"
      },
      "source": [
        "from google.colab import drive\n",
        "drive.mount('/content/drive')\n",
        "curr_dir='/content/drive/My Drive/Colab Notebooks/Udacity_Supervised_Learning/'"
      ],
      "execution_count": 2,
      "outputs": [
        {
          "output_type": "stream",
          "text": [
            "Mounted at /content/drive\n"
          ],
          "name": "stdout"
        }
      ]
    },
    {
      "cell_type": "code",
      "metadata": {
        "id": "-zGGYtpxOc53"
      },
      "source": [
        "import pandas as pd\n",
        "import numpy as np\n",
        "\n",
        "from sklearn.svm import SVC\n",
        "from sklearn.metrics import accuracy_score"
      ],
      "execution_count": 30,
      "outputs": []
    },
    {
      "cell_type": "code",
      "metadata": {
        "id": "7mFiMya7Okoo"
      },
      "source": [
        "data_df=pd.read_csv(curr_dir+'svm_data.csv' , header=None)\n",
        "data_arr=np.asarray(data_df)\n",
        "\n",
        "X=data_df.iloc[ : , 0:2]\n",
        "y=data_df.iloc[ : , 2]\n"
      ],
      "execution_count": 25,
      "outputs": []
    },
    {
      "cell_type": "code",
      "metadata": {
        "id": "99oQcmAhcU2H"
      },
      "source": [
        "model=SVC(kernel='rbf', gamma=27)\n",
        "model.fit(X,y)\n",
        "y_pred=model.predict(X)\n",
        "acc=accuracy_score(y,y_pred)"
      ],
      "execution_count": 32,
      "outputs": []
    },
    {
      "cell_type": "code",
      "metadata": {
        "colab": {
          "base_uri": "https://localhost:8080/"
        },
        "id": "MXnXH89XY8w6",
        "outputId": "59eb5ce0-3720-44ad-8132-3fcbe78d71b0"
      },
      "source": [
        "print(acc)\n",
        "\n",
        "print(data_df.head(2))\n",
        "print(X.head(2))\n",
        "print(y.head(2))\n"
      ],
      "execution_count": 33,
      "outputs": [
        {
          "output_type": "stream",
          "text": [
            "1.0\n",
            "         0        1  2\n",
            "0  0.24539  0.81725  0\n",
            "1  0.21774  0.76462  0\n",
            "         0        1\n",
            "0  0.24539  0.81725\n",
            "1  0.21774  0.76462\n",
            "0    0\n",
            "1    0\n",
            "Name: 2, dtype: int64\n"
          ],
          "name": "stdout"
        }
      ]
    }
  ]
}